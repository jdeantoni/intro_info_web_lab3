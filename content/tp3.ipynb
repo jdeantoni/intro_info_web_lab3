{
  "metadata": {
    "language_info": {
      "codemirror_mode": {
        "name": "python",
        "version": 3
      },
      "file_extension": ".py",
      "mimetype": "text/x-python",
      "name": "python",
      "nbconvert_exporter": "python",
      "pygments_lexer": "ipython3",
      "version": "3.8"
    },
    "kernelspec": {
      "name": "python",
      "display_name": "Python (Pyodide)",
      "language": "python"
    }
  },
  "nbformat_minor": 4,
  "nbformat": 4,
  "cells": [
    {
      "cell_type": "markdown",
      "source": "# TP3\n\n## Introduction\n\nDans le TD précédent vous avez définit en pseudo code plusieurs algo permettant de sérialiser/désérialiser une var de type $ImagePPM$ vers et depuis le disque dur.\nVous allez mettre en oeuvre dans ce TP la traduction du pseudo code précédemment écrit en Python. Vous allez donc lire et écrire des fichiers. Dans l'environnement que nous utilisons (un notebook JupyterLite), les fichiers qui n'ont pas une extension *.txt* sont considérés comme étant des fichiers encodés en binaire. Cela explique pourquoi vous en pouvez pas visualiser facilement le contenu des fichiers *.ppm*.\n\nAfin de pouvoir simplement vérifier que ce que vous faites est correct, nous avons changé toutes les extensions de fichiers des images *.ppm* en *.txt*\nCela n'empèche pas de charger et afficher les images. Voir par exemple la cellule ci dessous:",
      "metadata": {}
    },
    {
      "cell_type": "code",
      "source": "",
      "metadata": {},
      "execution_count": null,
      "outputs": []
    },
    {
      "cell_type": "markdown",
      "source": "## PPM",
      "metadata": {}
    },
    {
      "cell_type": "markdown",
      "source": "### Désérialisation",
      "metadata": {}
    },
    {
      "cell_type": "code",
      "source": "from io import TextIOWrapper\nimport cv2\nfrom iiwHelper import *\n\nfile : TextIOWrapper = open(\"./pict/Simpsons.ppm\", \"r\")\ncontent : list[str] = file.readlines()\n\nwidth: int = int(content[1] )\nheight: int = int(content[2])\npixels: list[Pixel] = []\n\nindex : int = int(4)\nwhile ((index+2) < len(content)):\n    pixels.append(Pixel(int(content[index]), int(content[index+1]), int(content[index+2])))\n    index = index + 3\n\nimg: ImagePPM = ImagePPM(width, height, pixels)\nshowImage(img)\n\nfile.close()",
      "metadata": {
        "trusted": true
      },
      "execution_count": null,
      "outputs": []
    },
    {
      "cell_type": "markdown",
      "source": "### Sérialisation",
      "metadata": {}
    },
    {
      "cell_type": "code",
      "source": "from io import TextIOWrapper\nimport cv2\nfrom iiwHelper import *\n\nfile : TextIOWrapper = open(\"./pict/modified/Simpsons.ppm\", \"w\")\n\nfile.write(\"P3\\n\")\nfile.write(str(img.width)+\"\\n\")\nfile.write(str(img.height)+\"\\n\")\nfile.write(str(\"255\\n\"))\n\nindex : int = int(0)\nwhile (index < len(img.pixels)):\n    p: Pixel = img.pixels[index]\n    file.write(str(p.r)+\"\\n\")\n    file.write(str(p.g)+\"\\n\")\n    file.write(str(p.b)+\"\\n\")\n    index = index + 1\n\nprint(\"image saved\")\nshowImageFromPath(\"./pict/modified/Simpsons.ppm\")\n\nfile.close()",
      "metadata": {
        "trusted": true
      },
      "execution_count": null,
      "outputs": []
    },
    {
      "cell_type": "markdown",
      "source": "## format IIW\n\n### Sérialisation",
      "metadata": {}
    },
    {
      "cell_type": "code",
      "source": "#v1\nfrom io import TextIOWrapper\nimport cv2\nfrom iiwHelper import *\n\nimg: ImagePPM = loadImage(\"./pict/miniDamier.ppm\")\n\nfile : TextIOWrapper = open(\"./pict/modified/miniDamier.iiw\", \"w\")\n\nfile.write(\"IIW\\n\")\nfile.write(str(img.width)+\"\\n\")\nfile.write(str(img.height)+\"\\n\")\nfile.write(str(\"255\\n\"))\n\npreviousPixel: Pixel = img.pixels[0]\nnbConsecutiveSimilarPixels: int = int(1)\n\nindex : int = int(1)\nwhile (index < len(img.pixels)):\n    p: Pixel = img.pixels[index]\n    if (p == previousPixel):\n        nbConsecutiveSimilarPixels += 1\n    else:\n        file.write(str(nbConsecutiveSimilarPixels)+\"\\n\")\n        nbConsecutiveSimilarPixels = 1\n        file.write(str(previousPixel.r)+\"\\n\")\n        file.write(str(previousPixel.g)+\"\\n\")\n        file.write(str(previousPixel.b)+\"\\n\")\n    previousPixel = p\n    index = index + 1\n\nfile.write(str(nbConsecutiveSimilarPixels)+\"\\n\")\nfile.write(str(previousPixel.r)+\"\\n\")\nfile.write(str(previousPixel.g)+\"\\n\")\nfile.write(str(previousPixel.b)+\"\\n\")\n\nfile.close()",
      "metadata": {
        "trusted": true
      },
      "execution_count": null,
      "outputs": []
    },
    {
      "cell_type": "code",
      "source": "#v2\nfrom io import TextIOWrapper\nimport cv2\nfrom iiwHelper import *\n\nimg: ImagePPM = loadImage(\"./pict/modified/valroseCompressed.txt\")\n\nfile : TextIOWrapper = open(\"./pict/modified/valroseCompressedIIW.txt\", \"w\")\n\nfile.write(\"IIW\\n\")\nfile.write(str(img.width)+\"\\n\")\nfile.write(str(img.height)+\"\\n\")\nfile.write(str(\"255\\n\"))\n\nnbConsecutiveSimilarPixels: int = int(1)\n\nindex : int = int(0)\nwhile (index+1 < len(img.pixels)):\n    currentPixel: Pixel = img.pixels[index]\n    nextPixel: Pixel = img.pixels[index+1]\n    if (currentPixel == nextPixel):\n        nbConsecutiveSimilarPixels += 1\n    else:\n        file.write(str(nbConsecutiveSimilarPixels)+\"\\n\")\n        nbConsecutiveSimilarPixels = 1\n        file.write(str(currentPixel.r)+\"\\n\")\n        file.write(str(currentPixel.g)+\"\\n\")\n        file.write(str(currentPixel.b)+\"\\n\")\n    index = index + 1\n\nfile.write(str(nbConsecutiveSimilarPixels)+\"\\n\")\nfile.write(str(img.pixels[len(img.pixels)-1].r)+\"\\n\")\nfile.write(str(img.pixels[len(img.pixels)-1].g)+\"\\n\")\nfile.write(str(img.pixels[len(img.pixels)-1].b)+\"\\n\")\n\nfile.close()",
      "metadata": {
        "trusted": true
      },
      "execution_count": null,
      "outputs": []
    },
    {
      "cell_type": "markdown",
      "source": "### Désérialiser",
      "metadata": {}
    },
    {
      "cell_type": "code",
      "source": "from io import TextIOWrapper\nimport cv2\nfrom iiwHelper import *\n\nfile : TextIOWrapper = open(\"./pict/modified/Simpsons.iiw\", \"r\")\ncontent : list[str] = file.readlines()\n\nwidth: int = int(content[1] )\nheight: int = int(content[2])\npixels: list[Pixel] = []\n\nindex : int = int(4)\nwhile ((index+3) < len(content)):\n    nbPixels: int = int(content[index])\n    r: int = int(content[index+1])\n    g: int = int(content[index+2])\n    b: int = int(content[index+3])\n    while (nbPixels > 0):\n        pixels.append(Pixel(r,g,b))\n        nbPixels -= 1\n    index = index + 4\n\nimg: ImagePPM = ImagePPM(width, height, pixels)\nshowImage(img)\n\nfile.close()",
      "metadata": {
        "trusted": true
      },
      "execution_count": null,
      "outputs": []
    },
    {
      "cell_type": "markdown",
      "source": "### Compression avec perte",
      "metadata": {}
    },
    {
      "cell_type": "code",
      "source": "from io import TextIOWrapper\nimport cv2\nfrom iiwHelper import *\n\nimg: ImagePPM = loadImage(\"./pict/valrose.ppm\")\nshowImage(img)\n\n\nindex: int = int(0)\npixels: list[Pixel] = []\nnbPixelToAverage: int = int(8)\n\nwhile (index < len(img.pixels)):\n    r: int = int(0)\n    g: int = int(0)\n    b: int = int(0)\n    i: int = int(0)\n    borne: int = int(nbPixelToAverage)\n    if((index)%img.width > img.width-nbPixelToAverage): # seulement dans 2eme partie\n        borne = img.width -((index)%img.width)\n    while (i < borne):   \n        r += img.pixels[index+i].r\n        g += img.pixels[index+i].g\n        b += img.pixels[index+i].b\n        i = i + 1\n    p: Pixel = Pixel(r//borne,g//borne,b//borne)\n    i = 0\n    while (i < borne):   #pixels.extends([p]*borne)\n        pixels.append(p)\n        i = i + 1\n    index = index+borne\n\nres: ImagePPM = ImagePPM(img.width, img.height, pixels)\nprint('done')\nshowImage(res)\nsaveImage(res,'./pict/modified/valroseCompressed.txt')\n#loadImage('./pict/modified/valroseCompressed.ppm')",
      "metadata": {
        "trusted": true
      },
      "execution_count": null,
      "outputs": []
    },
    {
      "cell_type": "markdown",
      "source": "## Format IIW++\n\n### sérialisation",
      "metadata": {
        "tags": []
      }
    },
    {
      "cell_type": "code",
      "source": "from io import TextIOWrapper\nimport cv2\nfrom iiwHelper import *\n\nimg: ImagePPM = loadImage(\"./pict/damier_propre_ascii.ppm\")\n\nfile : TextIOWrapper = open(\"./pict/modified/damier_propre_ascii.iiw\", \"w\")\n\nfile.write(\"IIW++\\n\")\nfile.write(str(img.width)+\"\\n\")\nfile.write(str(img.height)+\"\\n\")\nfile.write(str(\"255\\n\"))\n\npixelsUnique: list[Pixel] = []\n\nindex : int = int(0)\nwhile (index < len(img.pixels)):\n    p: Pixel = img.pixels[index]\n    if (not (p in pixelsUnique)): # 'in' est en O(n) et peut être implémenté en parcourant la liste\n        pixelsUnique.append(p)    # pixesUnique = PixelsUnique + [p]\n    index = index + 1\n\nlenPixelsUnique: int = len(pixelsUnique)\nprint('l\\'image utilise', lenPixelsUnique,'couleurs différentes')\nprint('ratio:',len(img.pixels)/lenPixelsUnique)\n\nindex = 0\nwhile (index < lenPixelsUnique):\n    p: Pixel = pixelsUnique[index]\n    file.write(str(p.r)+\"\\n\")\n    file.write(str(p.g)+\"\\n\")\n    file.write(str(p.b)+\"\\n\")\n    index = index + 1\nfile.write(\"-\\n\")\n\nindex = 0\nwhile (index < len(img.pixels)):\n    p: Pixel = img.pixels[index]\n    file.write(str(pixelsUnique.index(p))+\"\\n\") # index() est en O(n). Peut aussi être implémenté en parcourant la liste\n    index = index + 1\n\nfile.close()",
      "metadata": {
        "trusted": true
      },
      "execution_count": null,
      "outputs": []
    },
    {
      "cell_type": "code",
      "source": "#VOptim for test only\n\nfrom io import TextIOWrapper\nimport cv2\nfrom iiwHelper import *\n\nimg: ImagePPM = loadImage(\"./pict/valrose.ppm\")\n\nfile : TextIOWrapper = open(\"./pict/modified/valrose.txt\", \"w\")\n\nfile.write(\"IIW++\\n\")\nfile.write(str(img.width)+\"\\n\")\nfile.write(str(img.height)+\"\\n\")\nfile.write(str(\"255\\n\"))\n\npixelsUnique: dict[Pixel] = {}\nkeyIndex: int = int(0)\npreviousLenPixelUnique: int = len(pixelsUnique)\n\nindex : int = int(0)\nwhile (index < len(img.pixels)):\n    p: Pixel = img.pixels[index]\n    previousLenPixelUnique = len(pixelsUnique)\n    pixelsUnique[p] = keyIndex\n    lenPixelsUnique: int = len(pixelsUnique)\n    if(previousLenPixelUnique != lenPixelsUnique):\n        keyIndex = keyIndex + 1\n    index = index + 1\n\nlenPixelsUnique: int = len(pixelsUnique)\nprint('l\\'image utilise', lenPixelsUnique,'couleurs différentes')\nprint('ratio:',len(img.pixels)/lenPixelsUnique)\n\nfor p in pixelsUnique:\n    file.write(str(p.r)+\"\\n\")\n    file.write(str(p.g)+\"\\n\")\n    file.write(str(p.b)+\"\\n\")\nfile.write(\"-\\n\")\n\nindex = 0\nwhile (index < len(img.pixels)):\n    p: Pixel = img.pixels[index]\n    file.write(str(pixelsUnique[p])+\"\\n\") # index() est en O(n). Peut aussi être implémenté en parcourant la liste\n    index = index + 1\n\nfile.close()\nprint('done')",
      "metadata": {
        "trusted": true
      },
      "execution_count": null,
      "outputs": []
    },
    {
      "cell_type": "markdown",
      "source": "## reduction image",
      "metadata": {}
    },
    {
      "cell_type": "code",
      "source": "from io import TextIOWrapper\nimport cv2\nfrom iiwHelper import *\n\nimg: ImagePPM = loadImage(\"./pict/Simpson.ppm\")\nratio: float = float(0.8)\n\nnewWidth: int = int(ratio * img.width)\nnewHeight: int = int(ratio * img.height)\n\n\n\n",
      "metadata": {
        "trusted": true
      },
      "execution_count": null,
      "outputs": []
    }
  ]
}